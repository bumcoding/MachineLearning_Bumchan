{
 "cells": [
  {
   "cell_type": "code",
   "execution_count": 2,
   "id": "f89b3662-cda9-4ce7-8258-07b017e16e48",
   "metadata": {},
   "outputs": [
    {
     "name": "stdout",
     "output_type": "stream",
     "text": [
      "H:\n"
     ]
    }
   ],
   "source": [
    "print(\"H:\")"
   ]
  },
  {
   "cell_type": "code",
   "execution_count": null,
   "id": "cde1b550-f7f3-4fe7-a3a4-db487eaa3202",
   "metadata": {},
   "outputs": [],
   "source": []
  }
 ],
 "metadata": {
  "kernelspec": {
   "display_name": "Python 3 (ipykernel)",
   "language": "python",
   "name": "python3"
  },
  "language_info": {
   "codemirror_mode": {
    "name": "ipython",
    "version": 3
   },
   "file_extension": ".py",
   "mimetype": "text/x-python",
   "name": "python",
   "nbconvert_exporter": "python",
   "pygments_lexer": "ipython3",
   "version": "3.7.16"
  }
 },
 "nbformat": 4,
 "nbformat_minor": 5
}
