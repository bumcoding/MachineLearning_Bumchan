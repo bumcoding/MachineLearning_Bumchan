{
 "cells": [
  {
   "cell_type": "code",
   "execution_count": 8,
   "id": "e3f745db",
   "metadata": {},
   "outputs": [
    {
     "name": "stdout",
     "output_type": "stream",
     "text": [
      "10 20 30\n",
      "200\n",
      "Sexy, Bumchan!\n"
     ]
    }
   ],
   "source": [
    "a = 10\n",
    "b = 20\n",
    "c = a + b\n",
    "\n",
    "print(a, b, c)\n",
    "\n",
    "c = a * b\n",
    "\n",
    "print(c)\n",
    "\n",
    "name = 'Bumchan'\n",
    "sent = 'Sexy, ' + name + '!'\n",
    "\n",
    "print(sent)"
   ]
  },
  {
   "cell_type": "code",
   "execution_count": 9,
   "id": "cb26b9d3",
   "metadata": {},
   "outputs": [
    {
     "name": "stdout",
     "output_type": "stream",
     "text": [
      "True\n",
      "False\n",
      "apple\n",
      "banana\n",
      "cherry\n",
      "['apple', 'banana', 'cherry', 'orange']\n"
     ]
    }
   ],
   "source": [
    "a = 10\n",
    "b = 20\n",
    "\n",
    "result1 = a < b\n",
    "result2 = a == b\n",
    "\n",
    "print(result1) # True\n",
    "print(result2) # False\n",
    "\n",
    "fruits = ['apple', 'banana', 'cherry']\n",
    "print(fruits[0]) # apple\n",
    "print(fruits[1]) # banana\n",
    "print(fruits[2]) # cherry\n",
    "\n",
    "fruits.append('orange') # append로 덧붙이기\n",
    "print(fruits) # ['apple', 'banana', 'cherry', 'orange']"
   ]
  },
  {
   "cell_type": "code",
   "execution_count": 11,
   "id": "69229cc8",
   "metadata": {},
   "outputs": [
    {
     "name": "stdout",
     "output_type": "stream",
     "text": [
      "1\n",
      "2\n",
      "3\n",
      "Bumchan\n",
      "24\n",
      "KBU\n",
      "{'name': 'Bumchan', 'age': 24, 'city': 'KBU', 'job': 'Artist'}\n"
     ]
    }
   ],
   "source": [
    "mytuple = (1, 2, 3)\n",
    "print(mytuple[0]) # 1\n",
    "print(mytuple[1]) # 2\n",
    "print(mytuple[2]) # 3\n",
    "\n",
    "# 튜플은 값을 변경할 수 없음\n",
    "# mytuple[0] = 4\n",
    "# TypeError 발생\n",
    "\n",
    "person = {'name': 'Bumchan', 'age': 24, 'city': 'KBU'}\n",
    "print(person['name']) # Bumchan\n",
    "print(person['age']) # 24\n",
    "print(person['city']) # KBU\n",
    "\n",
    "person['job'] = 'Artist' # 작업 추가\n",
    "print(person) # {'name': 'Bumchan', 'age': 24, 'city': 'KBU', 'job': 'Artist'}"
   ]
  },
  {
   "cell_type": "code",
   "execution_count": 12,
   "id": "27e000f3",
   "metadata": {},
   "outputs": [
    {
     "name": "stdout",
     "output_type": "stream",
     "text": [
      "0\n",
      "1\n",
      "2\n",
      "3\n",
      "4\n"
     ]
    }
   ],
   "source": [
    "i = 0\n",
    "while i < 5:\n",
    "    print(i)\n",
    "    i += 1"
   ]
  },
  {
   "cell_type": "code",
   "execution_count": 13,
   "id": "285d5a20",
   "metadata": {},
   "outputs": [
    {
     "name": "stdout",
     "output_type": "stream",
     "text": [
      "x는 양수입니다.\n"
     ]
    }
   ],
   "source": [
    "x = 10\n",
    "\n",
    "if x > 0:\n",
    "    print('x는 양수입니다.') # 조건을 만족하므로 출력\n",
    "elif x == 0:\n",
    "    print('x는 0입니다.')\n",
    "else:\n",
    "    print('x는 음수입니다.')"
   ]
  },
  {
   "cell_type": "code",
   "execution_count": 16,
   "id": "b6b4eb49",
   "metadata": {},
   "outputs": [
    {
     "name": "stdout",
     "output_type": "stream",
     "text": [
      "apple\n",
      "banana\n",
      "cherry\n",
      "0\n",
      "1\n",
      "2\n",
      "3\n",
      "4\n",
      "0 0\n",
      "0 1\n",
      "0 2\n",
      "1 0\n",
      "1 1\n",
      "1 2\n"
     ]
    }
   ],
   "source": [
    "fruits = ['apple', 'banana', 'cherry']\n",
    "for fruit in fruits: # 파이썬의 for문 구조\n",
    "    print(fruit)\n",
    "\n",
    "    \n",
    "for i in range(5): # 숫자 0~4 출력\n",
    "    print(i)\n",
    "    \n",
    "for i in range(2): # 이중for문\n",
    "    for j in range(3):\n",
    "        print(i, j)"
   ]
  },
  {
   "cell_type": "code",
   "execution_count": 21,
   "id": "c5afb00e",
   "metadata": {},
   "outputs": [
    {
     "name": "stdout",
     "output_type": "stream",
     "text": [
      "나는 박범찬이다!\n",
      "20000208\n"
     ]
    }
   ],
   "source": [
    "# user_input의 자료형(type) = 문자열(String)\n",
    "user_input = input() # 문자열로 문장을 입력받음\n",
    "\n",
    "# user_input의 자료형(type) = 정수형(int)\n",
    "user_input = int(input()) # 정수형으로 값을 입력받음"
   ]
  },
  {
   "cell_type": "code",
   "execution_count": 22,
   "id": "0ef9aa4a",
   "metadata": {},
   "outputs": [
    {
     "name": "stdout",
     "output_type": "stream",
     "text": [
      "20000208\n"
     ]
    }
   ],
   "source": [
    "print(user_input)"
   ]
  },
  {
   "cell_type": "code",
   "execution_count": null,
   "id": "e5d05d86",
   "metadata": {},
   "outputs": [],
   "source": []
  }
 ],
 "metadata": {
  "kernelspec": {
   "display_name": "Python 3 (ipykernel)",
   "language": "python",
   "name": "python3"
  },
  "language_info": {
   "codemirror_mode": {
    "name": "ipython",
    "version": 3
   },
   "file_extension": ".py",
   "mimetype": "text/x-python",
   "name": "python",
   "nbconvert_exporter": "python",
   "pygments_lexer": "ipython3",
   "version": "3.10.9"
  }
 },
 "nbformat": 4,
 "nbformat_minor": 5
}
