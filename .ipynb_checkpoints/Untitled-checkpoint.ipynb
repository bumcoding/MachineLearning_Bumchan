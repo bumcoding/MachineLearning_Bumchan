{
 "cells": [
  {
   "cell_type": "code",
   "execution_count": 6,
   "id": "3ea1be6e",
   "metadata": {
    "scrolled": true
   },
   "outputs": [
    {
     "name": "stdout",
     "output_type": "stream",
     "text": [
      "0    80\n",
      "1    82\n",
      "2    84\n",
      "3    86\n",
      "4    88\n",
      "5    90\n",
      "6    92\n",
      "7    94\n",
      "8    96\n",
      "9    98\n",
      "dtype: int64\n",
      "count    10.000000\n",
      "mean     89.000000\n",
      "std       6.055301\n",
      "min      80.000000\n",
      "25%      84.500000\n",
      "50%      89.000000\n",
      "75%      93.500000\n",
      "max      98.000000\n",
      "dtype: float64\n",
      "10\n"
     ]
    }
   ],
   "source": [
    "import pandas as pd\n",
    "\n",
    "grades = pd.Series(range(80, 100, 2))\n",
    "# The same interger indexing is default\n",
    "# range(시작값, 끝 직전값, 공차)\n",
    "print(grades)\n",
    "print(grades.describe())  # descriptive statistics\n",
    "print(len(grades))"
   ]
  },
  {
   "cell_type": "code",
   "execution_count": null,
   "id": "f33b5dff",
   "metadata": {},
   "outputs": [],
   "source": []
  }
 ],
 "metadata": {
  "kernelspec": {
   "display_name": "Python 3 (ipykernel)",
   "language": "python",
   "name": "python3"
  },
  "language_info": {
   "codemirror_mode": {
    "name": "ipython",
    "version": 3
   },
   "file_extension": ".py",
   "mimetype": "text/x-python",
   "name": "python",
   "nbconvert_exporter": "python",
   "pygments_lexer": "ipython3",
   "version": "3.10.9"
  }
 },
 "nbformat": 4,
 "nbformat_minor": 5
}
