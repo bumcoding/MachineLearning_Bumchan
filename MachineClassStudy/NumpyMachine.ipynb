{
 "cells": [
  {
   "cell_type": "code",
   "execution_count": 1,
   "id": "a6bcac3c",
   "metadata": {},
   "outputs": [
    {
     "name": "stdout",
     "output_type": "stream",
     "text": [
      "[1. 4. 5. 8.]\n",
      "5.0\n",
      "<class 'numpy.float64'>\n"
     ]
    }
   ],
   "source": [
    "import numpy as np # as로 변수를 기호에 맞게 쓰면 된다\n",
    "test_array = np.array([1, 4, 5, 8], float) # 숫자의 형태를 정해줄 수 있다\n",
    "print(test_array) # 배열 전체 출력\n",
    "print(test_array[2]) # 2번 인덱스 원소 출력\n",
    "print(type(test_array[3])) # 데이터타입 보기"
   ]
  },
  {
   "cell_type": "code",
   "execution_count": 2,
   "id": "3f107d5a",
   "metadata": {},
   "outputs": [
    {
     "data": {
      "text/plain": [
       "array([[1., 4., 5., 8.],\n",
       "       [1., 4., 5., 9.]])"
      ]
     },
     "execution_count": 2,
     "metadata": {},
     "output_type": "execute_result"
    }
   ],
   "source": [
    "import numpy as np\n",
    "test_list = [[1, 4, 5, 8], [1, 4, 5, 9]] # 파이썬의 리스트\n",
    "np.array(test_list, float) # 넘파이 배열 변환"
   ]
  },
  {
   "cell_type": "code",
   "execution_count": 3,
   "id": "5af6e5d8",
   "metadata": {},
   "outputs": [
    {
     "name": "stdout",
     "output_type": "stream",
     "text": [
      "float64\n",
      "(4,)\n"
     ]
    }
   ],
   "source": [
    "print(test_array.dtype) # 배열 전체의 데이터 타입 반환\n",
    "print(test_array.shape) # 배열의 구조(shape)를 반환함"
   ]
  },
  {
   "cell_type": "code",
   "execution_count": 4,
   "id": "126d2f85",
   "metadata": {},
   "outputs": [
    {
     "data": {
      "text/plain": [
       "(3, 4)"
      ]
     },
     "execution_count": 4,
     "metadata": {},
     "output_type": "execute_result"
    }
   ],
   "source": [
    "matrix = [[1,2,5,8], [1,2,5,8], [1,2,5,8]]\n",
    "np.array(matrix, int).shape # 배열의 구조를 봄"
   ]
  },
  {
   "cell_type": "code",
   "execution_count": 5,
   "id": "5a987ad4",
   "metadata": {},
   "outputs": [
    {
     "data": {
      "text/plain": [
       "(4, 3, 4)"
      ]
     },
     "execution_count": 5,
     "metadata": {},
     "output_type": "execute_result"
    }
   ],
   "source": [
    "tensor_rank3 = [\n",
    "[[1, 2, 5, 8], [1, 2, 5, 8], [1, 2, 5, 8]],\n",
    "[[1, 2, 5, 8], [1, 2, 5, 8], [1, 2, 5, 8]],\n",
    "[[1, 2, 5, 8], [1, 2, 5, 8], [1, 2, 5, 8]],\n",
    "[[1, 2, 5, 8], [1, 2, 5, 8], [1, 2, 5, 8]]]\n",
    "np.array(tensor_rank3, int).shape # 3차원 배열(텐서)의 구조"
   ]
  },
  {
   "cell_type": "code",
   "execution_count": 6,
   "id": "8eca9205",
   "metadata": {},
   "outputs": [
    {
     "data": {
      "text/plain": [
       "3"
      ]
     },
     "execution_count": 6,
     "metadata": {},
     "output_type": "execute_result"
    }
   ],
   "source": [
    "tensor_rank3 = [[[1, 2, 5, 8], [1, 2, 5, 8], [1, 2, 5, 8]],\n",
    "                [[1, 2, 5, 8], [1, 2, 5, 8], [1, 2, 5, 8]], \n",
    "                [[1, 2, 5, 8], [1, 2, 5, 8], [1, 2, 5, 8]],\n",
    "                [[1, 2, 5, 8], [1, 2, 5, 8], [1, 2, 5, 8]]]\n",
    "np.array(tensor_rank3, int).ndim # 차원 수 출력"
   ]
  },
  {
   "cell_type": "code",
   "execution_count": 7,
   "id": "40b199d9",
   "metadata": {},
   "outputs": [
    {
     "data": {
      "text/plain": [
       "array([[1, 2, 3],\n",
       "       [4, 5, 6]])"
      ]
     },
     "execution_count": 7,
     "metadata": {},
     "output_type": "execute_result"
    }
   ],
   "source": [
    "np.array( [ [1, 2, 3.5], [4, 5, 6.5]], dtype=int)\n",
    "# 매개변수 dtype으로 넘파이 배열의 데이터 타입 지정\n",
    "# dtype을 실수형인 float으로 지정한다면 모든 데이터가\n",
    "# 실수형으로 저장되는 것을 확인 가능"
   ]
  },
  {
   "cell_type": "code",
   "execution_count": 8,
   "id": "88e0e0a1",
   "metadata": {},
   "outputs": [
    {
     "data": {
      "text/plain": [
       "8"
      ]
     },
     "execution_count": 8,
     "metadata": {},
     "output_type": "execute_result"
    }
   ],
   "source": [
    "import sys\n",
    "np.array( [[1, 2, 3.5], [4, 5, 6.5]],\n",
    "dtype=np.float64).itemsize\n",
    "# itemsize =  각 요소가 차지하는 바이트의 수"
   ]
  },
  {
   "cell_type": "code",
   "execution_count": 9,
   "id": "097c8e85",
   "metadata": {},
   "outputs": [
    {
     "data": {
      "text/plain": [
       "4"
      ]
     },
     "execution_count": 9,
     "metadata": {},
     "output_type": "execute_result"
    }
   ],
   "source": [
    " np.array( [[1, 2, 3.5], [4, 5, 6.5]], \n",
    "dtype=np.float32).itemsize"
   ]
  },
  {
   "cell_type": "code",
   "execution_count": 10,
   "id": "8d314e87",
   "metadata": {},
   "outputs": [
    {
     "data": {
      "text/plain": [
       "(2, 4)"
      ]
     },
     "execution_count": 10,
     "metadata": {},
     "output_type": "execute_result"
    }
   ],
   "source": [
    "x = np.array([[1, 2, 5, 8], [1, 2, 5, 8]])\n",
    "x.shape"
   ]
  },
  {
   "cell_type": "code",
   "execution_count": 11,
   "id": "540ed613",
   "metadata": {},
   "outputs": [
    {
     "data": {
      "text/plain": [
       "array([1, 2, 5, 8, 1, 2, 5, 8])"
      ]
     },
     "execution_count": 11,
     "metadata": {},
     "output_type": "execute_result"
    }
   ],
   "source": [
    "x = x.reshape(-1,)\n",
    "x\n",
    "# reshape: 배열의 구조를 변경하고 랭크를 조절"
   ]
  },
  {
   "cell_type": "code",
   "execution_count": 12,
   "id": "0b3cc4f7",
   "metadata": {},
   "outputs": [
    {
     "data": {
      "text/plain": [
       "(8,)"
      ]
     },
     "execution_count": 12,
     "metadata": {},
     "output_type": "execute_result"
    }
   ],
   "source": [
    "x.shape"
   ]
  },
  {
   "cell_type": "code",
   "execution_count": 13,
   "id": "8015d1f3",
   "metadata": {},
   "outputs": [
    {
     "data": {
      "text/plain": [
       "array([[1, 2],\n",
       "       [5, 8],\n",
       "       [1, 2],\n",
       "       [5, 8]])"
      ]
     },
     "execution_count": 13,
     "metadata": {},
     "output_type": "execute_result"
    }
   ],
   "source": [
    "x.reshape(4,2) # 4행 2열로 구조변환"
   ]
  },
  {
   "cell_type": "code",
   "execution_count": 14,
   "id": "9b842e86",
   "metadata": {},
   "outputs": [
    {
     "data": {
      "text/plain": [
       "array([[0, 1],\n",
       "       [2, 3],\n",
       "       [4, 5],\n",
       "       [6, 7]])"
      ]
     },
     "execution_count": 14,
     "metadata": {},
     "output_type": "execute_result"
    }
   ],
   "source": [
    "y= np.array(range(8)).reshape(4,2)\n",
    "y\n",
    "# range(8): 0~7까지 배열생성\n",
    "# resape(4,2): 4행 2열로 생성"
   ]
  },
  {
   "cell_type": "code",
   "execution_count": 15,
   "id": "d16c6ee5",
   "metadata": {},
   "outputs": [
    {
     "data": {
      "text/plain": [
       "array([[0, 1, 2, 3],\n",
       "       [4, 5, 6, 7]])"
      ]
     },
     "execution_count": 15,
     "metadata": {},
     "output_type": "execute_result"
    }
   ],
   "source": [
    "y.reshape(2,-1)\n",
    "# -1을 사용하면 나머지 차원의 크기를 지정했을 때\n",
    "# 전체 요소의개수를 고려하여 마지막 차원이 자동으로 지정됨"
   ]
  },
  {
   "cell_type": "code",
   "execution_count": 16,
   "id": "3792160b",
   "metadata": {},
   "outputs": [
    {
     "data": {
      "text/plain": [
       "array([[[0, 1],\n",
       "        [2, 3]],\n",
       "\n",
       "       [[4, 5],\n",
       "        [6, 7]]])"
      ]
     },
     "execution_count": 16,
     "metadata": {},
     "output_type": "execute_result"
    }
   ],
   "source": [
    "y.reshape(2,2,-1)"
   ]
  },
  {
   "cell_type": "code",
   "execution_count": 17,
   "id": "ebb4d3d9",
   "metadata": {},
   "outputs": [
    {
     "data": {
      "text/plain": [
       "array([[[0, 1],\n",
       "        [2, 3]],\n",
       "\n",
       "       [[4, 5],\n",
       "        [6, 7]]])"
      ]
     },
     "execution_count": 17,
     "metadata": {},
     "output_type": "execute_result"
    }
   ],
   "source": [
    "x = np.array(range(8)).reshape(2,2,2)\n",
    "x"
   ]
  },
  {
   "cell_type": "code",
   "execution_count": 18,
   "id": "1a9cb73b",
   "metadata": {},
   "outputs": [
    {
     "data": {
      "text/plain": [
       "array([0, 1, 2, 3, 4, 5, 6, 7])"
      ]
     },
     "execution_count": 18,
     "metadata": {},
     "output_type": "execute_result"
    }
   ],
   "source": [
    "x.flatten()\n",
    "# flatten: 데이터 그대로 1차원으로 변경"
   ]
  },
  {
   "cell_type": "code",
   "execution_count": 19,
   "id": "2aad2092",
   "metadata": {},
   "outputs": [
    {
     "data": {
      "text/plain": [
       "array([[1, 2, 3],\n",
       "       [4, 5, 6]])"
      ]
     },
     "execution_count": 19,
     "metadata": {},
     "output_type": "execute_result"
    }
   ],
   "source": [
    "x = np.array([[1, 2, 3], [4, 5, 6]], int)\n",
    "x"
   ]
  },
  {
   "cell_type": "code",
   "execution_count": 20,
   "id": "bfdf37e1",
   "metadata": {},
   "outputs": [
    {
     "data": {
      "text/plain": [
       "1"
      ]
     },
     "execution_count": 20,
     "metadata": {},
     "output_type": "execute_result"
    }
   ],
   "source": [
    "x[0][0] # 인덱스의 값 호출"
   ]
  },
  {
   "cell_type": "code",
   "execution_count": 21,
   "id": "f72bcd40",
   "metadata": {},
   "outputs": [
    {
     "data": {
      "text/plain": [
       "array([[  1, 100,   3],\n",
       "       [  4,   5,   6]])"
      ]
     },
     "execution_count": 21,
     "metadata": {},
     "output_type": "execute_result"
    }
   ],
   "source": [
    "x[0, 1] = 100\n",
    "x # 100 대입 후 출력"
   ]
  },
  {
   "cell_type": "code",
   "execution_count": 22,
   "id": "9cbb10d9",
   "metadata": {
    "scrolled": true
   },
   "outputs": [
    {
     "data": {
      "text/plain": [
       "array([[ 3,  4,  5],\n",
       "       [ 8,  9, 10]])"
      ]
     },
     "execution_count": 22,
     "metadata": {},
     "output_type": "execute_result"
    }
   ],
   "source": [
    "x = np.array([[1, 2, 3, 4, 5], [6, 7, 8, 9, 10]], int)\n",
    "x[:,2:] # 전체 행의 2열 이상"
   ]
  },
  {
   "cell_type": "code",
   "execution_count": 23,
   "id": "44eea617",
   "metadata": {},
   "outputs": [
    {
     "data": {
      "text/plain": [
       "array([7, 8])"
      ]
     },
     "execution_count": 23,
     "metadata": {},
     "output_type": "execute_result"
    }
   ],
   "source": [
    "x[1,1:3] # 1행의 1열 ~ 2열"
   ]
  },
  {
   "cell_type": "code",
   "execution_count": 24,
   "id": "54c1ef95",
   "metadata": {},
   "outputs": [
    {
     "data": {
      "text/plain": [
       "array([[ 6,  7,  8,  9, 10]])"
      ]
     },
     "execution_count": 24,
     "metadata": {},
     "output_type": "execute_result"
    }
   ],
   "source": [
    "x[1:3]"
   ]
  },
  {
   "cell_type": "code",
   "execution_count": 25,
   "id": "6016648c",
   "metadata": {},
   "outputs": [
    {
     "data": {
      "text/plain": [
       "array([[ 0,  1,  2,  3,  4],\n",
       "       [ 5,  6,  7,  8,  9],\n",
       "       [10, 11, 12, 13, 14]])"
      ]
     },
     "execution_count": 25,
     "metadata": {},
     "output_type": "execute_result"
    }
   ],
   "source": [
    "x = np.array(range(15), int).reshape(3, -1)\n",
    "x"
   ]
  },
  {
   "cell_type": "code",
   "execution_count": 26,
   "id": "6d5e55c0",
   "metadata": {},
   "outputs": [
    {
     "data": {
      "text/plain": [
       "array([[ 0,  2,  4],\n",
       "       [ 5,  7,  9],\n",
       "       [10, 12, 14]])"
      ]
     },
     "execution_count": 26,
     "metadata": {},
     "output_type": "execute_result"
    }
   ],
   "source": [
    "x[:,::2] # 콜른 두개 + 건너뛰는 칸수"
   ]
  },
  {
   "cell_type": "code",
   "execution_count": 27,
   "id": "58a84563",
   "metadata": {
    "scrolled": true
   },
   "outputs": [
    {
     "data": {
      "text/plain": [
       "array([[ 0,  3],\n",
       "       [10, 13]])"
      ]
     },
     "execution_count": 27,
     "metadata": {},
     "output_type": "execute_result"
    }
   ],
   "source": [
    "x[::2,::3]"
   ]
  },
  {
   "cell_type": "code",
   "execution_count": 28,
   "id": "85ef189a",
   "metadata": {},
   "outputs": [
    {
     "data": {
      "text/plain": [
       "array([[ 0,  1,  2,  3,  4],\n",
       "       [ 5,  6,  7,  8,  9],\n",
       "       [10, 11, 12, 13, 14]])"
      ]
     },
     "execution_count": 28,
     "metadata": {},
     "output_type": "execute_result"
    }
   ],
   "source": [
    "x = np.array(range(15), int).reshape(3, -1)\n",
    "x"
   ]
  },
  {
   "cell_type": "code",
   "execution_count": 29,
   "id": "d9d777a3",
   "metadata": {},
   "outputs": [
    {
     "data": {
      "text/plain": [
       "array([[ 5,  6,  7,  8,  9],\n",
       "       [10, 11, 12, 13, 14]])"
      ]
     },
     "execution_count": 29,
     "metadata": {},
     "output_type": "execute_result"
    }
   ],
   "source": [
    "x[1:3]"
   ]
  },
  {
   "cell_type": "code",
   "execution_count": 30,
   "id": "c2169e9f",
   "metadata": {},
   "outputs": [
    {
     "data": {
      "text/plain": [
       "array([-5, -4, -3, -2, -1,  0,  1,  2,  3,  4])"
      ]
     },
     "execution_count": 30,
     "metadata": {},
     "output_type": "execute_result"
    }
   ],
   "source": [
    "np.arange(-5, 5) # 배열 만드는 범위"
   ]
  },
  {
   "cell_type": "code",
   "execution_count": 31,
   "id": "42b46cc2",
   "metadata": {},
   "outputs": [
    {
     "data": {
      "text/plain": [
       "array([0. , 0.5, 1. , 1.5, 2. , 2.5, 3. , 3.5, 4. , 4.5])"
      ]
     },
     "execution_count": 31,
     "metadata": {},
     "output_type": "execute_result"
    }
   ],
   "source": [
    "np.arange(0, 5, 0.5) # 0부터 5까지 0,5씩 증가한다"
   ]
  },
  {
   "cell_type": "code",
   "execution_count": 32,
   "id": "50d5c3c5",
   "metadata": {},
   "outputs": [
    {
     "data": {
      "text/plain": [
       "array([[1, 1],\n",
       "       [1, 1],\n",
       "       [1, 1],\n",
       "       [1, 1],\n",
       "       [1, 1]], dtype=int8)"
      ]
     },
     "execution_count": 32,
     "metadata": {},
     "output_type": "execute_result"
    }
   ],
   "source": [
    "np.ones(shape=(5,2), dtype=np.int8) # ones = 숫자 1로만 배열을 구성한다"
   ]
  },
  {
   "cell_type": "code",
   "execution_count": 33,
   "id": "e73c5f03",
   "metadata": {},
   "outputs": [
    {
     "data": {
      "text/plain": [
       "array([[0., 0.],\n",
       "       [0., 0.]], dtype=float32)"
      ]
     },
     "execution_count": 33,
     "metadata": {},
     "output_type": "execute_result"
    }
   ],
   "source": [
    "np.zeros(shape=(2,2), dtype=np.float32) # zeros = 숫자 0으로만 배열을 구성한다"
   ]
  },
  {
   "cell_type": "code",
   "execution_count": 34,
   "id": "22b681b3",
   "metadata": {},
   "outputs": [
    {
     "data": {
      "text/plain": [
       "array([[5.7857652e-39, 8.4489539e-39, 5.3265527e-39, 7.8061461e-39],\n",
       "       [9.2755463e-39, 1.0561242e-38, 0.0000000e+00, 4.5910742e-41]],\n",
       "      dtype=float32)"
      ]
     },
     "execution_count": 34,
     "metadata": {},
     "output_type": "execute_result"
    }
   ],
   "source": [
    "np.empty(shape=(2,4), dtype=np.float32) # 배열안에 랜덤의 쓰레기 값을 넣는다"
   ]
  },
  {
   "cell_type": "code",
   "execution_count": 35,
   "id": "13add2d4",
   "metadata": {},
   "outputs": [
    {
     "data": {
      "text/plain": [
       "array([[1, 0, 0],\n",
       "       [0, 1, 0],\n",
       "       [0, 0, 1]])"
      ]
     },
     "execution_count": 35,
     "metadata": {},
     "output_type": "execute_result"
    }
   ],
   "source": [
    "np.identity(n=3, dtype=int) # n x n의 단위 행렬을 n크기만큼 생성한다"
   ]
  },
  {
   "cell_type": "code",
   "execution_count": 36,
   "id": "b5355669",
   "metadata": {},
   "outputs": [
    {
     "data": {
      "text/plain": [
       "array([[1., 0., 0., 0., 0.],\n",
       "       [0., 1., 0., 0., 0.],\n",
       "       [0., 0., 1., 0., 0.]])"
      ]
     },
     "execution_count": 36,
     "metadata": {},
     "output_type": "execute_result"
    }
   ],
   "source": [
    "np.eye(N=3, M=5) # N은 행의 개수, M은 열의 개수를 지정해준다"
   ]
  },
  {
   "cell_type": "code",
   "execution_count": 37,
   "id": "822db05c",
   "metadata": {},
   "outputs": [
    {
     "data": {
      "text/plain": [
       "array([[0., 0., 1., 0., 0.],\n",
       "       [0., 0., 0., 1., 0.],\n",
       "       [0., 0., 0., 0., 1.]])"
      ]
     },
     "execution_count": 37,
     "metadata": {},
     "output_type": "execute_result"
    }
   ],
   "source": [
    "np.eye(N=3, M=5, k=2) # k는 시작할 인덱스 위치를 지정해준다"
   ]
  },
  {
   "cell_type": "code",
   "execution_count": 38,
   "id": "53da3e55",
   "metadata": {},
   "outputs": [
    {
     "data": {
      "text/plain": [
       "array([[0, 1, 2],\n",
       "       [3, 4, 5],\n",
       "       [6, 7, 8]])"
      ]
     },
     "execution_count": 38,
     "metadata": {},
     "output_type": "execute_result"
    }
   ],
   "source": [
    "matrix = np.arange(9).reshape(3,3)\n",
    "matrix"
   ]
  },
  {
   "cell_type": "code",
   "execution_count": 39,
   "id": "2db965d4",
   "metadata": {},
   "outputs": [
    {
     "data": {
      "text/plain": [
       "array([0, 4, 8])"
      ]
     },
     "execution_count": 39,
     "metadata": {},
     "output_type": "execute_result"
    }
   ],
   "source": [
    "np.diag(matrix) # 대각선의 값을 출력해준다"
   ]
  },
  {
   "cell_type": "code",
   "execution_count": 40,
   "id": "f4c99b77",
   "metadata": {},
   "outputs": [
    {
     "data": {
      "text/plain": [
       "array([1, 5])"
      ]
     },
     "execution_count": 40,
     "metadata": {},
     "output_type": "execute_result"
    }
   ],
   "source": [
    "np.diag(matrix, k=1) # k로 옮기기 가능"
   ]
  },
  {
   "cell_type": "code",
   "execution_count": 41,
   "id": "5dcb30a6",
   "metadata": {},
   "outputs": [
    {
     "data": {
      "text/plain": [
       "array([1.54012023, 1.27092571, 1.50695211, 3.63761496, 1.34810017,\n",
       "       0.2161758 , 0.64602719, 1.62855469, 3.93813895, 1.88411652])"
      ]
     },
     "execution_count": 41,
     "metadata": {},
     "output_type": "execute_result"
    }
   ],
   "source": [
    "np.random.uniform(0, 5, 10) # (시작값, 끝값, 데이터개수)를 랜덤으로 출력해준다"
   ]
  },
  {
   "cell_type": "code",
   "execution_count": 42,
   "id": "22fb0595",
   "metadata": {},
   "outputs": [
    {
     "data": {
      "text/plain": [
       "array([ 0.46303312,  2.99381046,  0.21385466, -0.70751302,  5.1249191 ,\n",
       "       -1.02731089, -0.26779767,  0.22180189,  1.40658955,  3.07049409])"
      ]
     },
     "execution_count": 42,
     "metadata": {},
     "output_type": "execute_result"
    }
   ],
   "source": [
    "np.random.normal(0, 2, 10) # (평균값, 분산, 데이터개수)를 랜덤으로 출력해준다"
   ]
  },
  {
   "cell_type": "code",
   "execution_count": 43,
   "id": "86f9b807",
   "metadata": {},
   "outputs": [
    {
     "data": {
      "text/plain": [
       "array([[ 1,  2,  3,  4],\n",
       "       [ 5,  6,  7,  8],\n",
       "       [ 9, 10, 11, 12]])"
      ]
     },
     "execution_count": 43,
     "metadata": {},
     "output_type": "execute_result"
    }
   ],
   "source": [
    "test_array = np.arange(1,13).reshape(3,4)\n",
    "test_array"
   ]
  },
  {
   "cell_type": "code",
   "execution_count": 44,
   "id": "0ae14720",
   "metadata": {},
   "outputs": [
    {
     "data": {
      "text/plain": [
       "array([15, 18, 21, 24])"
      ]
     },
     "execution_count": 44,
     "metadata": {},
     "output_type": "execute_result"
    }
   ],
   "source": [
    "test_array.sum(axis=0) # axis = 0 은 행끼리의 연산"
   ]
  },
  {
   "cell_type": "code",
   "execution_count": 45,
   "id": "3926ad50",
   "metadata": {},
   "outputs": [
    {
     "data": {
      "text/plain": [
       "array([10, 26, 42])"
      ]
     },
     "execution_count": 45,
     "metadata": {},
     "output_type": "execute_result"
    }
   ],
   "source": [
    "test_array.sum(axis=1) # axis = 1 은 열끼리의 연산"
   ]
  },
  {
   "cell_type": "code",
   "execution_count": 46,
   "id": "b5eb917d",
   "metadata": {},
   "outputs": [
    {
     "data": {
      "text/plain": [
       "array([[ 1,  2,  3,  4],\n",
       "       [ 5,  6,  7,  8],\n",
       "       [ 9, 10, 11, 12]])"
      ]
     },
     "execution_count": 46,
     "metadata": {},
     "output_type": "execute_result"
    }
   ],
   "source": [
    "test_array = np.arange(1, 13).reshape(3, 4)\n",
    "test_array"
   ]
  },
  {
   "cell_type": "code",
   "execution_count": 47,
   "id": "4ac6e417",
   "metadata": {},
   "outputs": [
    {
     "data": {
      "text/plain": [
       "array([ 2.5,  6.5, 10.5])"
      ]
     },
     "execution_count": 47,
     "metadata": {},
     "output_type": "execute_result"
    }
   ],
   "source": [
    "test_array.mean(axis=1) # axis=1 축을 기준으로 평균 연산"
   ]
  },
  {
   "cell_type": "code",
   "execution_count": 48,
   "id": "02c743f1",
   "metadata": {},
   "outputs": [
    {
     "data": {
      "text/plain": [
       "3.452052529534663"
      ]
     },
     "execution_count": 48,
     "metadata": {},
     "output_type": "execute_result"
    }
   ],
   "source": [
    "test_array.std() # 전체 값에 대한 표준편차 연산"
   ]
  },
  {
   "cell_type": "code",
   "execution_count": 49,
   "id": "53740826",
   "metadata": {},
   "outputs": [
    {
     "data": {
      "text/plain": [
       "array([[1.        , 1.41421356, 1.73205081, 2.        ],\n",
       "       [2.23606798, 2.44948974, 2.64575131, 2.82842712],\n",
       "       [3.        , 3.16227766, 3.31662479, 3.46410162]])"
      ]
     },
     "execution_count": 49,
     "metadata": {},
     "output_type": "execute_result"
    }
   ],
   "source": [
    "np.sqrt(test_array) # 각 요소에 제곱근 연산 수행"
   ]
  },
  {
   "cell_type": "code",
   "execution_count": 50,
   "id": "3d7a04cc",
   "metadata": {},
   "outputs": [
    {
     "data": {
      "text/plain": [
       "array([[1, 2, 3],\n",
       "       [4, 5, 6]])"
      ]
     },
     "execution_count": 50,
     "metadata": {},
     "output_type": "execute_result"
    }
   ],
   "source": [
    "v1 = np.array([1, 2, 3])\n",
    "v2 = np.array([4, 5, 6])\n",
    "np.vstack((v1, v2)) #vstack 함수 : 배열을 수직으로 붙여 하나의 행렬을 생성"
   ]
  },
  {
   "cell_type": "code",
   "execution_count": 51,
   "id": "6d1ac076",
   "metadata": {},
   "outputs": [
    {
     "data": {
      "text/plain": [
       "array([1, 2, 3, 4, 5, 6])"
      ]
     },
     "execution_count": 51,
     "metadata": {},
     "output_type": "execute_result"
    }
   ],
   "source": [
    "np.hstack((v1,v2)) #hstack 함수 : 배열을 수평으로 붙여 하나의 행렬을 생성"
   ]
  },
  {
   "cell_type": "code",
   "execution_count": 52,
   "id": "76a0957a",
   "metadata": {},
   "outputs": [
    {
     "data": {
      "text/plain": [
       "array([[1, 2, 3],\n",
       "       [4, 5, 6],\n",
       "       [7, 8, 9]])"
      ]
     },
     "execution_count": 52,
     "metadata": {},
     "output_type": "execute_result"
    }
   ],
   "source": [
    "x = np.arange(1, 10).reshape(3,3)\n",
    "x"
   ]
  },
  {
   "cell_type": "code",
   "execution_count": 53,
   "id": "99ab26ab",
   "metadata": {},
   "outputs": [
    {
     "name": "stdout",
     "output_type": "stream",
     "text": [
      "[[11 12 13]\n",
      " [14 15 16]\n",
      " [17 18 19]]\n",
      "[[-1  0  1]\n",
      " [ 2  3  4]\n",
      " [ 5  6  7]]\n"
     ]
    }
   ],
   "source": [
    "print(x + 10) # 브로드캐스팅 연산 각 배열 칸마다 계산이 가능하다\n",
    "print(x - 2)"
   ]
  },
  {
   "cell_type": "code",
   "execution_count": 54,
   "id": "5d8be50f",
   "metadata": {},
   "outputs": [
    {
     "data": {
      "text/plain": [
       "array([[1, 2, 3],\n",
       "       [4, 5, 6]])"
      ]
     },
     "execution_count": 54,
     "metadata": {},
     "output_type": "execute_result"
    }
   ],
   "source": [
    "x = np.arange(1, 7).reshape(2,3)\n",
    "x"
   ]
  },
  {
   "cell_type": "code",
   "execution_count": 55,
   "id": "f29479f7",
   "metadata": {
    "scrolled": true
   },
   "outputs": [
    {
     "name": "stdout",
     "output_type": "stream",
     "text": [
      "[[ 2  4  6]\n",
      " [ 8 10 12]]\n",
      "[[0 0 0]\n",
      " [0 0 0]]\n",
      "[[1. 1. 1.]\n",
      " [1. 1. 1.]]\n",
      "[[ 1  4  9]\n",
      " [16 25 36]]\n",
      "[[    1     4    27]\n",
      " [  256  3125 46656]]\n"
     ]
    }
   ],
   "source": [
    "print(x + x)\n",
    "print(x - x)\n",
    "print(x / x)\n",
    "print(x * x)\n",
    "print(x ** x) # 세제곱 연산"
   ]
  },
  {
   "cell_type": "code",
   "execution_count": 56,
   "id": "8f5a9cd7",
   "metadata": {},
   "outputs": [
    {
     "name": "stdout",
     "output_type": "stream",
     "text": [
      "[[1 2 3]\n",
      " [4 5 6]]\n",
      "[[1 2]\n",
      " [3 4]\n",
      " [5 6]]\n"
     ]
    }
   ],
   "source": [
    "x_1 = np.arange(1, 7).reshape(2,3)\n",
    "x_2 = np.arange(1, 7).reshape(3,2)\n",
    "print(x_1)\n",
    "print(x_2)"
   ]
  },
  {
   "cell_type": "code",
   "execution_count": 57,
   "id": "60745bde",
   "metadata": {},
   "outputs": [
    {
     "data": {
      "text/plain": [
       "array([[22, 28],\n",
       "       [49, 64]])"
      ]
     },
     "execution_count": 57,
     "metadata": {},
     "output_type": "execute_result"
    }
   ],
   "source": [
    "x_1.dot(x_2)"
   ]
  },
  {
   "cell_type": "code",
   "execution_count": 58,
   "id": "b4b23e03",
   "metadata": {
    "scrolled": true
   },
   "outputs": [
    {
     "name": "stdout",
     "output_type": "stream",
     "text": [
      "[[1 2 3]\n",
      " [4 5 6]\n",
      " [7 8 9]]\n",
      "[[11 12 13]\n",
      " [14 15 16]\n",
      " [17 18 19]]\n",
      "[[-1  0  1]\n",
      " [ 2  3  4]\n",
      " [ 5  6  7]]\n",
      "[[0 0 1]\n",
      " [1 1 2]\n",
      " [2 2 3]]\n",
      "[[ 1  4  9]\n",
      " [16 25 36]\n",
      " [49 64 81]]\n"
     ]
    }
   ],
   "source": [
    "x = np.arange(1, 10).reshape(3,3)\n",
    "print(x)\n",
    "print(x+10)\n",
    "print(x-2)\n",
    "print(x // 3)\n",
    "print(x ** 2)"
   ]
  },
  {
   "cell_type": "code",
   "execution_count": 59,
   "id": "2569d014",
   "metadata": {},
   "outputs": [
    {
     "name": "stdout",
     "output_type": "stream",
     "text": [
      "[[0.33333333 0.66666667 1.         1.33333333 1.66666667]\n",
      " [2.         2.33333333 2.66666667 3.         3.33333333]\n",
      " [3.66666667 4.         4.33333333 4.66666667 5.        ]]\n",
      "[[0 0 1 1 1]\n",
      " [2 2 2 3 3]\n",
      " [3 4 4 4 5]]\n"
     ]
    }
   ],
   "source": [
    "x = np.arange(1, 16).reshape(3,5)\n",
    "print(x / 3) # 나눗셈 소수점 출력\n",
    "print(x // 3) # 소수점 뒷자리 삭제"
   ]
  },
  {
   "cell_type": "code",
   "execution_count": 60,
   "id": "2328260a",
   "metadata": {},
   "outputs": [
    {
     "name": "stdout",
     "output_type": "stream",
     "text": [
      "[ True  True  True False False]\n",
      "False\n",
      "True\n"
     ]
    }
   ],
   "source": [
    "x = np.array([4, 6, 7, 3, 2])\n",
    "print((x > 3))\n",
    "print((x > 3).all()) # and 연산자\n",
    "print((x > 3).any()) # or 연산자"
   ]
  },
  {
   "cell_type": "code",
   "execution_count": 61,
   "id": "3c89eca2",
   "metadata": {},
   "outputs": [
    {
     "name": "stdout",
     "output_type": "stream",
     "text": [
      "[False  True  True False False]\n",
      "(array([1, 2], dtype=int64),)\n"
     ]
    }
   ],
   "source": [
    " x = np.array([4, 6, 7, 3, 2])\n",
    "print(x > 5)\n",
    "print(np.where(x>5))"
   ]
  },
  {
   "cell_type": "code",
   "execution_count": 62,
   "id": "9393df68",
   "metadata": {},
   "outputs": [
    {
     "data": {
      "text/plain": [
       "array([20, 10, 10, 20, 20])"
      ]
     },
     "execution_count": 62,
     "metadata": {},
     "output_type": "execute_result"
    }
   ],
   "source": [
    "x = np.array([4, 6, 7, 3, 2])\n",
    "np.where(x>5 , 10, 20) # (비교연산자, 참일때 대입, 거짓일때 대입)"
   ]
  },
  {
   "cell_type": "code",
   "execution_count": 63,
   "id": "7b459630",
   "metadata": {},
   "outputs": [
    {
     "name": "stdout",
     "output_type": "stream",
     "text": [
      "[4 3 0 1 2]\n",
      "[2 3 4 6 7]\n",
      "2\n",
      "4\n"
     ]
    }
   ],
   "source": [
    "x = np.array([4, 6, 7, 3, 2]) # 배열내 작은 값 순서대로 반환\n",
    "print(np.argsort(x)) # index 값\n",
    "print(x[np.argsort(x)]) # 배열 안 숫자 값\n",
    "print(np.argmax(x)) # 가장 큰 값\n",
    "print(np.argmin(x)) # 가장 작은 값"
   ]
  },
  {
   "cell_type": "code",
   "execution_count": 64,
   "id": "31bbb8d1",
   "metadata": {},
   "outputs": [
    {
     "data": {
      "text/plain": [
       "array([ True,  True,  True, False, False])"
      ]
     },
     "execution_count": 64,
     "metadata": {},
     "output_type": "execute_result"
    }
   ],
   "source": [
    "x = np.array([4, 6, 7, 3, 2])\n",
    "x > 3"
   ]
  },
  {
   "cell_type": "code",
   "execution_count": 65,
   "id": "38235df5",
   "metadata": {},
   "outputs": [
    {
     "data": {
      "text/plain": [
       "array([4, 6, 7])"
      ]
     },
     "execution_count": 65,
     "metadata": {},
     "output_type": "execute_result"
    }
   ],
   "source": [
    "cond = x > 3\n",
    "x[cond] # 조건에 해당하는 값만 출력"
   ]
  },
  {
   "cell_type": "code",
   "execution_count": 66,
   "id": "945e3c51",
   "metadata": {},
   "outputs": [
    {
     "data": {
      "text/plain": [
       "array([6, 7, 4, 3, 2, 7])"
      ]
     },
     "execution_count": 66,
     "metadata": {},
     "output_type": "execute_result"
    }
   ],
   "source": [
    "x = np.array([4, 6, 7, 3, 2]) # 팬시 인덱스\n",
    "cond = np.array([1, 2, 0, 3, 4, 2,], int) # 각 n번에 있는 인덱스 불러오기\n",
    "x[cond]"
   ]
  },
  {
   "cell_type": "code",
   "execution_count": null,
   "id": "1bfe733e",
   "metadata": {},
   "outputs": [],
   "source": []
  }
 ],
 "metadata": {
  "kernelspec": {
   "display_name": "Python 3 (ipykernel)",
   "language": "python",
   "name": "python3"
  },
  "language_info": {
   "codemirror_mode": {
    "name": "ipython",
    "version": 3
   },
   "file_extension": ".py",
   "mimetype": "text/x-python",
   "name": "python",
   "nbconvert_exporter": "python",
   "pygments_lexer": "ipython3",
   "version": "3.9.16"
  }
 },
 "nbformat": 4,
 "nbformat_minor": 5
}
